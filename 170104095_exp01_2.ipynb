{
  "nbformat": 4,
  "nbformat_minor": 0,
  "metadata": {
    "colab": {
      "name": "Untitled3-2.ipynb",
      "provenance": [],
      "collapsed_sections": []
    },
    "kernelspec": {
      "name": "python3",
      "display_name": "Python 3"
    },
    "language_info": {
      "name": "python"
    },
    "accelerator": "GPU"
  },
  "cells": [
    {
      "cell_type": "code",
      "metadata": {
        "id": "4UMKTgRoeqfW"
      },
      "source": [
        "import numpy as np\n",
        "import pandas as pd\n",
        "import torch\n",
        "import torch.nn as nn\n",
        "import torch.nn.functional as F\n",
        "import torch.optim as optim\n",
        "from torch.utils.data import Dataset\n",
        "from torch.utils.data.sampler import SubsetRandomSampler\n",
        "import matplotlib\n",
        "import matplotlib.pyplot as plt\n",
        "from PIL import Image\n",
        "from torchvision import datasets, transforms, models\n",
        "from torch.autograd import Variable\n",
        "from zipfile import ZipFile\n",
        "import os\n",
        "from os import path\n",
        "import shutil"
      ],
      "execution_count": 1,
      "outputs": []
    },
    {
      "cell_type": "code",
      "metadata": {
        "id": "RManlEUee0_s"
      },
      "source": [
        "url = '/content/drive/MyDrive/Soft Computing/'"
      ],
      "execution_count": 2,
      "outputs": []
    },
    {
      "cell_type": "code",
      "metadata": {
        "id": "HC1Mh0lIGogh"
      },
      "source": [
        "dataset_C = url + 'Dataset C.zip'\n",
        "with ZipFile(dataset_C, 'r') as zip:\n",
        "  zip.extractall()"
      ],
      "execution_count": 7,
      "outputs": []
    },
    {
      "cell_type": "code",
      "metadata": {
        "colab": {
          "base_uri": "https://localhost:8080/"
        },
        "id": "LaehLowGIzoZ",
        "outputId": "0957f2b9-fd7b-4a20-f295-208b68106a47"
      },
      "source": [
        "from google.colab import drive\n",
        "drive.mount('/content/drive')"
      ],
      "execution_count": 6,
      "outputs": [
        {
          "output_type": "stream",
          "name": "stdout",
          "text": [
            "Mounted at /content/drive\n"
          ]
        }
      ]
    },
    {
      "cell_type": "code",
      "metadata": {
        "colab": {
          "base_uri": "https://localhost:8080/",
          "height": 223
        },
        "id": "xy-Cey0sf9Fz",
        "outputId": "14e4af46-fcf2-4136-ee5c-caf6d01e4f1c"
      },
      "source": [
        "PATH = '/content/'\n",
        "data_labels = pd.read_csv(PATH + 'training-c.csv', usecols = ['filename', 'digit'])\n",
        "print(data_labels.shape)\n",
        "data_labels.head()"
      ],
      "execution_count": 8,
      "outputs": [
        {
          "output_type": "stream",
          "name": "stdout",
          "text": [
            "(24298, 2)\n"
          ]
        },
        {
          "output_type": "execute_result",
          "data": {
            "text/html": [
              "<div>\n",
              "<style scoped>\n",
              "    .dataframe tbody tr th:only-of-type {\n",
              "        vertical-align: middle;\n",
              "    }\n",
              "\n",
              "    .dataframe tbody tr th {\n",
              "        vertical-align: top;\n",
              "    }\n",
              "\n",
              "    .dataframe thead th {\n",
              "        text-align: right;\n",
              "    }\n",
              "</style>\n",
              "<table border=\"1\" class=\"dataframe\">\n",
              "  <thead>\n",
              "    <tr style=\"text-align: right;\">\n",
              "      <th></th>\n",
              "      <th>filename</th>\n",
              "      <th>digit</th>\n",
              "    </tr>\n",
              "  </thead>\n",
              "  <tbody>\n",
              "    <tr>\n",
              "      <th>0</th>\n",
              "      <td>c00000.png</td>\n",
              "      <td>6</td>\n",
              "    </tr>\n",
              "    <tr>\n",
              "      <th>1</th>\n",
              "      <td>c00001.png</td>\n",
              "      <td>1</td>\n",
              "    </tr>\n",
              "    <tr>\n",
              "      <th>2</th>\n",
              "      <td>c00002.png</td>\n",
              "      <td>3</td>\n",
              "    </tr>\n",
              "    <tr>\n",
              "      <th>3</th>\n",
              "      <td>c00003.png</td>\n",
              "      <td>2</td>\n",
              "    </tr>\n",
              "    <tr>\n",
              "      <th>4</th>\n",
              "      <td>c00004.png</td>\n",
              "      <td>7</td>\n",
              "    </tr>\n",
              "  </tbody>\n",
              "</table>\n",
              "</div>"
            ],
            "text/plain": [
              "     filename  digit\n",
              "0  c00000.png      6\n",
              "1  c00001.png      1\n",
              "2  c00002.png      3\n",
              "3  c00003.png      2\n",
              "4  c00004.png      7"
            ]
          },
          "metadata": {},
          "execution_count": 8
        }
      ]
    },
    {
      "cell_type": "code",
      "metadata": {
        "id": "hTJ2ocEEHVGA"
      },
      "source": [
        "TRAIN_PATH = url + 'Train'\n",
        "os.mkdir(TRAIN_PATH)\n",
        "\n",
        "def processImages(folder_name):\n",
        "  src = PATH + folder_name + '/'\n",
        "  dir_folders = os.listdir(src)\n",
        "  for dir_name in dir_folders:\n",
        "    file_name = os.path.join(src, dir_name)\n",
        "    if os.path.isfile(file_name):\n",
        "      shutil.copy(file_name, TRAIN_PATH) \n",
        "\n",
        "processImages('training-c')"
      ],
      "execution_count": 11,
      "outputs": []
    },
    {
      "cell_type": "code",
      "metadata": {
        "id": "zmE05jA4kTDU"
      },
      "source": [
        "class Dataset(Dataset):\n",
        "    def __init__(self, df, root, transform=None):\n",
        "        self.data = df\n",
        "        self.root = root\n",
        "        self.transform = transform\n",
        "        \n",
        "    def __len__(self):\n",
        "        return len(self.data)\n",
        "    \n",
        "    def __getitem__(self, index):\n",
        "        item = self.data.iloc[index]\n",
        "        \n",
        "        path = self.root + \"/\" + item[0]\n",
        "        image = Image.open(path).convert('L')\n",
        "        label = item[1]\n",
        "        \n",
        "        if self.transform is not None:\n",
        "            image = self.transform(image)\n",
        "            \n",
        "        return image, label"
      ],
      "execution_count": 12,
      "outputs": []
    },
    {
      "cell_type": "code",
      "metadata": {
        "colab": {
          "base_uri": "https://localhost:8080/"
        },
        "id": "adaZ60Uik-eb",
        "outputId": "3fea3ebf-64c7-404f-b90d-8afd19bb126e"
      },
      "source": [
        "mean = [0.5,]\n",
        "std = [0.5, ]\n",
        "\n",
        "train_transform = transforms.Compose([\n",
        "    transforms.Resize(28),\n",
        "    transforms.ToTensor(),\n",
        "    transforms.Normalize(mean, std)\n",
        "])\n",
        "\n",
        "test_transform = transforms.Compose([\n",
        "        transforms.Resize(28),\n",
        "        transforms.ToTensor(),\n",
        "        transforms.Normalize(mean, std)\n",
        "])\n",
        "\n",
        "train_data  = Dataset(data_labels, TRAIN_PATH, train_transform)\n",
        "test_data = Dataset(data_labels, TRAIN_PATH, test_transform)\n",
        "\n",
        "print(\"Trainig Samples: \", len(train_data))"
      ],
      "execution_count": 13,
      "outputs": [
        {
          "output_type": "stream",
          "name": "stdout",
          "text": [
            "Trainig Samples:  24298\n"
          ]
        }
      ]
    },
    {
      "cell_type": "markdown",
      "metadata": {
        "id": "8htM9w2LmUVl"
      },
      "source": [
        "# **Base Parameters**"
      ]
    },
    {
      "cell_type": "code",
      "metadata": {
        "colab": {
          "base_uri": "https://localhost:8080/"
        },
        "id": "IGG3l4vrmkI3",
        "outputId": "05ac2290-f8ea-47d8-d65c-64d14cb394a5"
      },
      "source": [
        "batch_size = 85\n",
        "num_iters = 10000\n",
        "input_dim = 28*28\n",
        "num_hidden = 250\n",
        "output_dim = 10\n",
        "\n",
        "learning_rate = 0.01\n",
        "\n",
        "num_epochs = num_iters / (len(train_data) / batch_size)\n",
        "num_epochs = int(num_epochs)\n",
        "print(num_epochs)\n",
        "\n",
        "device = torch.device(\"cuda:0\" if torch.cuda.is_available() else \"cpu\")"
      ],
      "execution_count": 42,
      "outputs": [
        {
          "output_type": "stream",
          "name": "stdout",
          "text": [
            "34\n"
          ]
        }
      ]
    },
    {
      "cell_type": "code",
      "metadata": {
        "colab": {
          "base_uri": "https://localhost:8080/"
        },
        "id": "lsSesapsltZF",
        "outputId": "25a565e3-cc12-4ed8-b3f1-e54cbd8584bd"
      },
      "source": [
        "test_size = 0.2\n",
        "num_train = len(train_data)\n",
        "indices = list(range(num_train))\n",
        "np.random.shuffle(indices)\n",
        "split = int(np.floor(test_size * num_train))\n",
        "train_idx, test_idx = indices[split:], indices[:split]\n",
        "\n",
        "train_sampler = SubsetRandomSampler(train_idx)\n",
        "test_sampler = SubsetRandomSampler(test_idx)\n",
        "\n",
        "train_loader = torch.utils.data.DataLoader(\n",
        "    train_data, batch_size=batch_size,\n",
        "    sampler=train_sampler)\n",
        "\n",
        "test_loader = torch.utils.data.DataLoader(\n",
        "    test_data, batch_size=batch_size,\n",
        "    sampler=test_sampler)\n",
        "\n",
        "print(\"Train dataloader:{}\".format(len(train_loader)))\n",
        "print(\"Test dataloader:{}\".format(len(test_loader)))"
      ],
      "execution_count": 15,
      "outputs": [
        {
          "output_type": "stream",
          "name": "stdout",
          "text": [
            "Train dataloader:972\n",
            "Test dataloader:243\n"
          ]
        }
      ]
    },
    {
      "cell_type": "code",
      "metadata": {
        "id": "6jCcU8giniGS"
      },
      "source": [
        "class DeepNeuralNetworkModel(nn.Module):\n",
        "    def __init__(self, input_size, num_classes, num_hidden):\n",
        "        super().__init__()\n",
        "       \n",
        "        self.linear_1 = nn.Linear(input_size, num_hidden)\n",
        "        self.relu_1 = nn.ReLU()\n",
        " \n",
        "        self.linear_2 = nn.Linear(num_hidden, num_hidden)\n",
        "        self.relu_2 = nn.ReLU()\n",
        " \n",
        "        self.linear_3 = nn.Linear(num_hidden, num_hidden)\n",
        "        self.relu_3 = nn.ReLU()\n",
        " \n",
        "        self.linear_4 = nn.Linear(num_hidden, num_hidden)\n",
        "        self.relu_4 = nn.ReLU()\n",
        " \n",
        "        self.linear_5= nn.Linear(num_hidden, num_hidden)\n",
        "        self.relu_5= nn.ReLU()\n",
        " \n",
        "        self.linear_6 = nn.Linear(num_hidden, num_hidden)\n",
        "        self.relu_6 = nn.ReLU()\n",
        " \n",
        "        self.linear_out = nn.Linear(num_hidden, num_classes)\n",
        " \n",
        "    def forward(self, x):\n",
        "        out  = self.linear_1(x)\n",
        "        out = self.relu_1(out)\n",
        "        \n",
        "        out  = self.linear_2(out)\n",
        "        out = self.relu_2(out)\n",
        " \n",
        "        out  = self.linear_3(out)\n",
        "        out = self.relu_3(out)\n",
        " \n",
        "        out  = self.linear_4(out)\n",
        "        out = self.relu_4(out)\n",
        " \n",
        "        out  = self.linear_5(out)\n",
        "        out = self.relu_5(out)\n",
        " \n",
        "        out  = self.linear_6(out)\n",
        "        out = self.relu_6(out)\n",
        "        \n",
        "        probas  = self.linear_out(out)\n",
        "        return probas"
      ],
      "execution_count": 16,
      "outputs": []
    },
    {
      "cell_type": "code",
      "metadata": {
        "colab": {
          "base_uri": "https://localhost:8080/"
        },
        "id": "Q23HotHio42L",
        "outputId": "5b51e7d5-8e78-4a6e-941a-3da8a465e126"
      },
      "source": [
        "model = DeepNeuralNetworkModel(input_size = input_dim, num_classes = output_dim, num_hidden = num_hidden)\n",
        "\n",
        "model.to(device)"
      ],
      "execution_count": 21,
      "outputs": [
        {
          "output_type": "execute_result",
          "data": {
            "text/plain": [
              "DeepNeuralNetworkModel(\n",
              "  (linear_1): Linear(in_features=784, out_features=200, bias=True)\n",
              "  (relu_1): ReLU()\n",
              "  (linear_2): Linear(in_features=200, out_features=200, bias=True)\n",
              "  (relu_2): ReLU()\n",
              "  (linear_3): Linear(in_features=200, out_features=200, bias=True)\n",
              "  (relu_3): ReLU()\n",
              "  (linear_4): Linear(in_features=200, out_features=200, bias=True)\n",
              "  (relu_4): ReLU()\n",
              "  (linear_5): Linear(in_features=200, out_features=200, bias=True)\n",
              "  (relu_5): ReLU()\n",
              "  (linear_6): Linear(in_features=200, out_features=200, bias=True)\n",
              "  (relu_6): ReLU()\n",
              "  (linear_out): Linear(in_features=200, out_features=10, bias=True)\n",
              ")"
            ]
          },
          "metadata": {},
          "execution_count": 21
        }
      ]
    },
    {
      "cell_type": "code",
      "metadata": {
        "id": "V1YagXSipEth"
      },
      "source": [
        "criterion = nn.CrossEntropyLoss()\n",
        "optimizer = torch.optim.SGD(model.parameters(), lr = learning_rate)"
      ],
      "execution_count": 22,
      "outputs": []
    },
    {
      "cell_type": "code",
      "metadata": {
        "colab": {
          "base_uri": "https://localhost:8080/"
        },
        "id": "6VJ_sYCMp2l9",
        "outputId": "1cc3ad40-796a-437d-96a1-0ea1af07b1b1"
      },
      "source": [
        "iteration_loss = []\n",
        "iter = 0\n",
        "for epoch in range(num_epochs):\n",
        "    print('Epoch: ', epoch + 1)\n",
        "    for i, (images, labels) in enumerate(train_loader):\n",
        "\n",
        "        images = images.view(-1, 28*28).to(device)\n",
        "        labels = labels.to(device)\n",
        "\n",
        "        optimizer.zero_grad()\n",
        "\n",
        "        outputs = model(images) \n",
        "\n",
        "        loss = criterion(outputs, labels)\n",
        "\n",
        "        loss.backward()\n",
        "\n",
        "        optimizer.step()\n",
        "\n",
        "        iter += 1\n",
        "\n",
        "        if iter % 500 == 0:        \n",
        "            correct = 0\n",
        "            total = 0\n",
        "            for images, labels in test_loader:\n",
        "               \n",
        "                images = images.view(-1, 28*28).to(device)\n",
        "\n",
        "                outputs = model(images)\n",
        "\n",
        "                _, predicted = torch.max(outputs, 1)\n",
        "\n",
        "                total += labels.size(0)\n",
        "\n",
        "                if torch.cuda.is_available():\n",
        "                    correct += (predicted.cpu() == labels.cpu()).sum() \n",
        "                else:\n",
        "                    correct += (predicted == labels).sum()\n",
        "\n",
        "            accuracy = 100 * correct.item() / total\n",
        "\n",
        "            iteration_loss.append(loss.item())\n",
        "            print('Iteration: {}. Loss: {}. Accuracy: {}'.format(iter, loss.item(), accuracy))"
      ],
      "execution_count": 43,
      "outputs": [
        {
          "output_type": "stream",
          "name": "stdout",
          "text": [
            "Epoch:  1\n",
            "Iteration: 500. Loss: 0.795386791229248. Accuracy: 76.5178020168759\n",
            "Epoch:  2\n",
            "Iteration: 1000. Loss: 0.6545535326004028. Accuracy: 77.83494546202922\n",
            "Iteration: 1500. Loss: 0.6815522909164429. Accuracy: 76.64128421485903\n",
            "Epoch:  3\n",
            "Iteration: 2000. Loss: 0.607199490070343. Accuracy: 76.92940934348631\n",
            "Iteration: 2500. Loss: 0.8921245336532593. Accuracy: 75.40646223502779\n",
            "Epoch:  4\n",
            "Iteration: 3000. Loss: 0.7679108381271362. Accuracy: 75.50936406668039\n",
            "Iteration: 3500. Loss: 0.427132785320282. Accuracy: 76.55896274953695\n",
            "Epoch:  5\n",
            "Iteration: 4000. Loss: 0.6243266463279724. Accuracy: 77.48507923441038\n",
            "Iteration: 4500. Loss: 0.7116197347640991. Accuracy: 70.79646017699115\n",
            "Epoch:  6\n",
            "Iteration: 5000. Loss: 0.3251429796218872. Accuracy: 79.0080263428689\n",
            "Iteration: 5500. Loss: 0.39745691418647766. Accuracy: 79.35789257048775\n",
            "Epoch:  7\n",
            "Iteration: 6000. Loss: 0.9500070810317993. Accuracy: 74.56266721547644\n",
            "Iteration: 6500. Loss: 0.5364434123039246. Accuracy: 73.98641695822185\n",
            "Epoch:  8\n",
            "Iteration: 7000. Loss: 0.6384643316268921. Accuracy: 74.35686355217123\n",
            "Iteration: 7500. Loss: 1.00753915309906. Accuracy: 77.79378472936818\n",
            "Epoch:  9\n",
            "Iteration: 8000. Loss: 1.1048933267593384. Accuracy: 73.65713109693353\n",
            "Iteration: 8500. Loss: 0.4735003113746643. Accuracy: 77.99958839267339\n",
            "Epoch:  10\n",
            "Iteration: 9000. Loss: 0.4080143868923187. Accuracy: 79.5019551348014\n",
            "Iteration: 9500. Loss: 0.6140328645706177. Accuracy: 78.86396377855526\n",
            "Epoch:  11\n",
            "Iteration: 10000. Loss: 0.4718947410583496. Accuracy: 81.72463469849764\n",
            "Iteration: 10500. Loss: 0.3906680643558502. Accuracy: 79.17266927351307\n",
            "Epoch:  12\n",
            "Iteration: 11000. Loss: 0.23422019183635712. Accuracy: 80.13994649104754\n",
            "Iteration: 11500. Loss: 0.7965720295906067. Accuracy: 76.39431981889278\n",
            "Epoch:  13\n",
            "Iteration: 12000. Loss: 0.52215975522995. Accuracy: 81.00432187692941\n",
            "Iteration: 12500. Loss: 0.31841033697128296. Accuracy: 80.46923235233587\n",
            "Epoch:  14\n",
            "Iteration: 13000. Loss: 0.4041542112827301. Accuracy: 79.44021403580983\n",
            "Iteration: 13500. Loss: 0.6637927293777466. Accuracy: 78.67874048158058\n",
            "Epoch:  15\n",
            "Iteration: 14000. Loss: 0.6610797643661499. Accuracy: 79.60485696645401\n",
            "Iteration: 14500. Loss: 0.2537044882774353. Accuracy: 76.94998970981683\n",
            "Epoch:  16\n",
            "Iteration: 15000. Loss: 0.4842740595340729. Accuracy: 79.46079440214035\n",
            "Iteration: 15500. Loss: 0.32587167620658875. Accuracy: 80.42807161967482\n",
            "Epoch:  17\n",
            "Iteration: 16000. Loss: 0.7453140020370483. Accuracy: 76.66186458118955\n",
            "Iteration: 16500. Loss: 0.272183358669281. Accuracy: 79.8929820950813\n",
            "Epoch:  18\n",
            "Iteration: 17000. Loss: 0.7240437269210815. Accuracy: 74.97427454208685\n",
            "Epoch:  19\n",
            "Iteration: 17500. Loss: 0.3163500428199768. Accuracy: 76.74418604651163\n",
            "Iteration: 18000. Loss: 0.6800118684768677. Accuracy: 78.12307059065651\n",
            "Epoch:  20\n",
            "Iteration: 18500. Loss: 0.5994155406951904. Accuracy: 75.83864992796872\n",
            "Iteration: 19000. Loss: 0.8102424740791321. Accuracy: 79.04918707552994\n",
            "Epoch:  21\n",
            "Iteration: 19500. Loss: 0.22597047686576843. Accuracy: 79.09034780819098\n",
            "Iteration: 20000. Loss: 0.3603719174861908. Accuracy: 77.38217740275778\n",
            "Epoch:  22\n",
            "Iteration: 20500. Loss: 0.2640533745288849. Accuracy: 82.54784935171845\n",
            "Iteration: 21000. Loss: 0.6745779514312744. Accuracy: 79.5019551348014\n",
            "Epoch:  23\n",
            "Iteration: 21500. Loss: 0.498358815908432. Accuracy: 80.28400905536118\n",
            "Iteration: 22000. Loss: 0.4622839093208313. Accuracy: 78.45235645194485\n",
            "Epoch:  24\n",
            "Iteration: 22500. Loss: 0.337338387966156. Accuracy: 78.08190985799547\n",
            "Iteration: 23000. Loss: 0.27554503083229065. Accuracy: 81.72463469849764\n",
            "Epoch:  25\n",
            "Iteration: 23500. Loss: 0.4585346579551697. Accuracy: 79.66659806544557\n",
            "Iteration: 24000. Loss: 0.35004156827926636. Accuracy: 80.67503601564108\n",
            "Epoch:  26\n",
            "Iteration: 24500. Loss: 0.552043080329895. Accuracy: 80.11936612471702\n",
            "Iteration: 25000. Loss: 0.5596837401390076. Accuracy: 74.43918501749332\n",
            "Epoch:  27\n",
            "Iteration: 25500. Loss: 0.24400310218334198. Accuracy: 79.17266927351307\n",
            "Iteration: 26000. Loss: 0.8752205967903137. Accuracy: 76.57954311586747\n",
            "Epoch:  28\n",
            "Iteration: 26500. Loss: 0.5060941576957703. Accuracy: 78.39061535295328\n",
            "Iteration: 27000. Loss: 0.192734494805336. Accuracy: 80.57213418398848\n",
            "Epoch:  29\n",
            "Iteration: 27500. Loss: 0.2954521179199219. Accuracy: 79.35789257048775\n",
            "Iteration: 28000. Loss: 0.5208816528320312. Accuracy: 81.8892776291418\n",
            "Epoch:  30\n",
            "Iteration: 28500. Loss: 0.6070567965507507. Accuracy: 79.44021403580983\n",
            "Iteration: 29000. Loss: 0.8103998899459839. Accuracy: 79.81066062975921\n",
            "Epoch:  31\n",
            "Iteration: 29500. Loss: 0.46332937479019165. Accuracy: 80.4074912533443\n",
            "Iteration: 30000. Loss: 0.24749138951301575. Accuracy: 81.90985799547232\n",
            "Epoch:  32\n",
            "Iteration: 30500. Loss: 0.5820527672767639. Accuracy: 81.14838444124305\n",
            "Iteration: 31000. Loss: 0.5866504311561584. Accuracy: 77.52623996707142\n",
            "Epoch:  33\n",
            "Iteration: 31500. Loss: 0.4313734471797943. Accuracy: 80.94258077793785\n",
            "Iteration: 32000. Loss: 0.07496166229248047. Accuracy: 81.62173286684504\n",
            "Epoch:  34\n",
            "Iteration: 32500. Loss: 0.5326351523399353. Accuracy: 82.91829594566784\n",
            "Iteration: 33000. Loss: 0.41985249519348145. Accuracy: 80.7985182136242\n"
          ]
        }
      ]
    },
    {
      "cell_type": "code",
      "metadata": {
        "id": "IwU44FpRqO9t"
      },
      "source": [
        "torch.save(model.state_dict(), '/content/drive/MyDrive/Soft Computing/model_base.pkl')"
      ],
      "execution_count": 44,
      "outputs": []
    },
    {
      "cell_type": "code",
      "metadata": {
        "colab": {
          "base_uri": "https://localhost:8080/",
          "height": 317
        },
        "id": "1AIS0RVwq8ul",
        "outputId": "a56f7739-f4f0-4922-e680-ae53d510e11e"
      },
      "source": [
        "print (iteration_loss)\n",
        "plt.plot(iteration_loss)\n",
        "plt.ylabel('Loss')\n",
        "plt.xlabel('Iteration')\n",
        "plt.show()"
      ],
      "execution_count": 45,
      "outputs": [
        {
          "output_type": "stream",
          "name": "stdout",
          "text": [
            "[0.795386791229248, 0.6545535326004028, 0.6815522909164429, 0.607199490070343, 0.8921245336532593, 0.7679108381271362, 0.427132785320282, 0.6243266463279724, 0.7116197347640991, 0.3251429796218872, 0.39745691418647766, 0.9500070810317993, 0.5364434123039246, 0.6384643316268921, 1.00753915309906, 1.1048933267593384, 0.4735003113746643, 0.4080143868923187, 0.6140328645706177, 0.4718947410583496, 0.3906680643558502, 0.23422019183635712, 0.7965720295906067, 0.52215975522995, 0.31841033697128296, 0.4041542112827301, 0.6637927293777466, 0.6610797643661499, 0.2537044882774353, 0.4842740595340729, 0.32587167620658875, 0.7453140020370483, 0.272183358669281, 0.7240437269210815, 0.3163500428199768, 0.6800118684768677, 0.5994155406951904, 0.8102424740791321, 0.22597047686576843, 0.3603719174861908, 0.2640533745288849, 0.6745779514312744, 0.498358815908432, 0.4622839093208313, 0.337338387966156, 0.27554503083229065, 0.4585346579551697, 0.35004156827926636, 0.552043080329895, 0.5596837401390076, 0.24400310218334198, 0.8752205967903137, 0.5060941576957703, 0.192734494805336, 0.2954521179199219, 0.5208816528320312, 0.6070567965507507, 0.8103998899459839, 0.46332937479019165, 0.24749138951301575, 0.5820527672767639, 0.5866504311561584, 0.4313734471797943, 0.07496166229248047, 0.5326351523399353, 0.41985249519348145]\n"
          ]
        },
        {
          "output_type": "display_data",
          "data": {
            "image/png": "[encoded data removed]",
            "text/plain": [
              "<Figure size 432x288 with 1 Axes>"
            ]
          },
          "metadata": {
            "needs_background": "light"
          }
        }
      ]
    }
  ]
}